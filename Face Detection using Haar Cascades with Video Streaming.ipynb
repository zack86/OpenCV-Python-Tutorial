{
 "cells": [
  {
   "cell_type": "code",
   "execution_count": 2,
   "metadata": {},
   "outputs": [
    {
     "name": "stdout",
     "output_type": "stream",
     "text": [
      "frame width: 640.0 height: 480.0\n",
      "changed frame width: 320.0 height: 240.0\n"
     ]
    }
   ],
   "source": [
    "import numpy as np\n",
    "import cv2 as cv\n",
    "face_cascade = cv.CascadeClassifier('pretrain_models/haarcascade_frontalface_default.xml')\n",
    "eye_cascade = cv.CascadeClassifier('pretrain_models/haarcascade_eye.xml')\n",
    "\n",
    "cap = cv.VideoCapture(0)\n",
    "\n",
    "# display width and height of frame; default is 640x480\n",
    "width = cap.get(cv.CAP_PROP_FRAME_WIDTH)\n",
    "height = cap.get(cv.CAP_PROP_FRAME_HEIGHT)\n",
    "print('frame width: {} height: {}'.format(width, height))\n",
    "\n",
    "# change width and height to 320x240\n",
    "cap.set(cv.CAP_PROP_FRAME_WIDTH, 320)\n",
    "cap.set(cv.CAP_PROP_FRAME_HEIGHT, 240)\n",
    "width = cap.get(cv.CAP_PROP_FRAME_WIDTH)\n",
    "height = cap.get(cv.CAP_PROP_FRAME_HEIGHT)\n",
    "print('changed frame width: {} height: {}'.format(width, height))\n",
    "\n",
    "while(True):\n",
    "    # Capture frame-by-frame\n",
    "    ret, img = cap.read()\n",
    "    # Our operations on the frame come here\n",
    "    gray = cv.cvtColor(img, cv.COLOR_BGR2GRAY)\n",
    "    \n",
    "    faces = face_cascade.detectMultiScale(gray, 1.3, 5)\n",
    "    for (x,y,w,h) in faces:\n",
    "        cv.rectangle(img,(x,y),(x+w,y+h),(255,0,0),2)\n",
    "        roi_gray = gray[y:y+h, x:x+w]\n",
    "        roi_color = img[y:y+h, x:x+w]\n",
    "        eyes = eye_cascade.detectMultiScale(roi_gray)\n",
    "        \n",
    "        for (ex,ey,ew,eh) in eyes:\n",
    "            cv.rectangle(roi_color,(ex,ey),(ex+ew,ey+eh),(0,255,0),2)\n",
    "    \n",
    "    cv.imshow('img',img)\n",
    "    if cv.waitKey(1) & 0xFF == ord('q'):\n",
    "        break\n",
    "        \n",
    "# When everything done, release the capture\n",
    "cap.release()\n",
    "cv.destroyAllWindows()"
   ]
  },
  {
   "cell_type": "code",
   "execution_count": null,
   "metadata": {},
   "outputs": [],
   "source": []
  }
 ],
 "metadata": {
  "kernelspec": {
   "display_name": "Python 3",
   "language": "python",
   "name": "python3"
  },
  "language_info": {
   "codemirror_mode": {
    "name": "ipython",
    "version": 3
   },
   "file_extension": ".py",
   "mimetype": "text/x-python",
   "name": "python",
   "nbconvert_exporter": "python",
   "pygments_lexer": "ipython3",
   "version": "3.5.4"
  }
 },
 "nbformat": 4,
 "nbformat_minor": 2
}
